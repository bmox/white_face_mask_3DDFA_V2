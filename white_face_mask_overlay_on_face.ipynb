{
  "nbformat": 4,
  "nbformat_minor": 0,
  "metadata": {
    "colab": {
      "name": "white face mask overlay on face",
      "provenance": [],
      "collapsed_sections": []
    },
    "kernelspec": {
      "name": "python3",
      "display_name": "Python 3"
    }
  },
  "cells": [
    {
      "cell_type": "markdown",
      "metadata": {
        "id": "0pCKwf1ZPqaC"
      },
      "source": [
        "I'm using 3DDFA_V2 to add white mask on face<br>\n",
        "credit:\n",
        "[3DDFA_V2](https://github.com/cleardusk/3DDFA_V2)"
      ]
    },
    {
      "cell_type": "code",
      "metadata": {
        "colab": {
          "base_uri": "https://localhost:8080/",
          "height": 130
        },
        "id": "ImhA_daTw9DF",
        "outputId": "4fdc17be-95fe-4144-afdc-bbb8bb84ff28"
      },
      "source": [
        "# @title ##**Mount drive and Note your video id** { display-mode: \"form\" }\n",
        "\n",
        "from google.colab import drive\n",
        "from IPython.display import clear_output\n",
        "import os\n",
        "%cd /content/\n",
        "drive.mount('/content/gdrive')\n",
        "\n",
        "!mkdir \"/content/export_each_frame\"\n",
        "!mkdir \"/content/face_mask_frame\"\n",
        "video_folder=\"/content/gdrive/MyDrive/FACE_MASK_INPUT/\"\n",
        "save_path=\"/content/gdrive/MyDrive/FACE_MASK_OUTPUT/\"\n",
        "make_folder=[\"FACE_MASK_INPUT\",\"FACE_MASK_OUTPUT\"]\n",
        "for i in make_folder:\n",
        "  try:\n",
        "    os.mkdir(\"/content/gdrive/MyDrive/\"+i)\n",
        "  except:\n",
        "    pass\n",
        "clear_output()  \n",
        "print(\"Upload video in this folder: /content/gdrive/MyDrive/FACE_MASK/\\n\\n\")\n",
        "\n",
        "video_id=1\n",
        "table={}\n",
        "ids=[]\n",
        "videos=[]\n",
        "id_monitor={}\n",
        "for i in os.listdir(video_folder):\n",
        "  ids.append(video_id)\n",
        "  videos.append(i)\n",
        "  id_monitor[video_id]=i\n",
        "  video_id=video_id+1\n",
        "table[\"video_name\"]=videos\n",
        "table[\"video_id\"]=ids  \n",
        "import pandas as pd\n",
        "df = pd.DataFrame(table)\n",
        "df"
      ],
      "execution_count": null,
      "outputs": [
        {
          "output_type": "stream",
          "name": "stdout",
          "text": [
            "Upload video in this folder: /content/gdrive/MyDrive/FACE_MASK/\n",
            "\n",
            "\n"
          ]
        },
        {
          "output_type": "execute_result",
          "data": {
            "text/html": [
              "<div>\n",
              "<style scoped>\n",
              "    .dataframe tbody tr th:only-of-type {\n",
              "        vertical-align: middle;\n",
              "    }\n",
              "\n",
              "    .dataframe tbody tr th {\n",
              "        vertical-align: top;\n",
              "    }\n",
              "\n",
              "    .dataframe thead th {\n",
              "        text-align: right;\n",
              "    }\n",
              "</style>\n",
              "<table border=\"1\" class=\"dataframe\">\n",
              "  <thead>\n",
              "    <tr style=\"text-align: right;\">\n",
              "      <th></th>\n",
              "      <th>video_name</th>\n",
              "      <th>video_id</th>\n",
              "    </tr>\n",
              "  </thead>\n",
              "  <tbody>\n",
              "    <tr>\n",
              "      <th>0</th>\n",
              "      <td>WIN_20211107_19_54_50_Pro.mp4</td>\n",
              "      <td>1</td>\n",
              "    </tr>\n",
              "  </tbody>\n",
              "</table>\n",
              "</div>"
            ],
            "text/plain": [
              "                      video_name  video_id\n",
              "0  WIN_20211107_19_54_50_Pro.mp4         1"
            ]
          },
          "metadata": {},
          "execution_count": 161
        }
      ]
    },
    {
      "cell_type": "code",
      "metadata": {
        "colab": {
          "base_uri": "https://localhost:8080/"
        },
        "id": "3nBoPZEsqLMe",
        "outputId": "752b2f04-5eb6-4e7c-963f-c00796e52d3c"
      },
      "source": [
        "# @title ##**Type the video id from the table** { display-mode: \"form\" }\n",
        "\n",
        "%cd /content\n",
        "import cv2\n",
        "\n",
        "video_id = 1  #@param {type: \"number\"}\n",
        "try:\n",
        "  video_path=video_folder+id_monitor[int(video_id)]\n",
        "  cap=cv2.VideoCapture(video_path)\n",
        "  video_fps = cap.get(cv2.CAP_PROP_FPS)\n",
        "  video_fps=round(video_fps)\n",
        "  os.chdir(\"/content/export_each_frame\")\n",
        "  get_files=os.listdir()\n",
        "  for i in get_files:\n",
        "    try:\n",
        "      os.remove(i)\n",
        "    except:\n",
        "      pass\n",
        "      # -vf fps={video_fps}/1\n",
        "  var_1=os.system(f\"ffmpeg -i {video_path}  %06d.png\")\n",
        "  os.chdir(\"/content\")\n",
        "  clear_output()\n",
        "  if var_1==0:\n",
        "    print(\"Extract Frame Successfully\")\n",
        "  else:\n",
        "    print(\"Frame Extract Failed\")\n",
        "except Exception as e :\n",
        "  print(\"Enter currect video id\"+str(e))    "
      ],
      "execution_count": null,
      "outputs": [
        {
          "output_type": "stream",
          "name": "stdout",
          "text": [
            "Extract Frame Successfully\n"
          ]
        }
      ]
    },
    {
      "cell_type": "code",
      "metadata": {
        "id": "QVhLz5czcT5T"
      },
      "source": [
        "# if not clone, clone it\n",
        "# @title ##**Run our model** { display-mode: \"form\" }\n",
        "%rm -rf /content/3DDFA_V2\n",
        "%cd /content\n",
        "!git clone https://github.com/cleardusk/3DDFA_V2.git\n",
        "%cd 3DDFA_V2\n",
        "clear_output()\n",
        "!sh ./build.sh\n",
        "clear_output()\n",
        "# before import, make sure FaceBoxes and Sim3DR are built successfully, e.g.,\n",
        "\n",
        "import cv2\n",
        "import yaml\n",
        "\n",
        "from FaceBoxes import FaceBoxes\n",
        "from TDDFA import TDDFA\n",
        "from utils.render import render\n",
        "from utils.depth import depth\n",
        "from utils.pncc import pncc\n",
        "from utils.uv import uv_tex\n",
        "from utils.pose import viz_pose\n",
        "from utils.serialization import ser_to_ply, ser_to_obj\n",
        "from utils.functions import draw_landmarks, get_suffix\n",
        "\n",
        "import matplotlib.pyplot as plt\n",
        "from skimage import io\n",
        "clear_output()\n",
        "# load config\n",
        "cfg = yaml.load(open('configs/mb1_120x120.yml'), Loader=yaml.SafeLoader)\n",
        "\n",
        "# Init FaceBoxes and TDDFA, recommend using onnx flag\n",
        "onnx_flag = True  # or True to use ONNX to speed up\n",
        "if onnx_flag:\n",
        "    !pip install onnxruntime\n",
        "    \n",
        "    import os\n",
        "    os.environ['KMP_DUPLICATE_LIB_OK'] = 'True'\n",
        "    os.environ['OMP_NUM_THREADS'] = '4'\n",
        "    from FaceBoxes.FaceBoxes_ONNX import FaceBoxes_ONNX\n",
        "    from TDDFA_ONNX import TDDFA_ONNX\n",
        "\n",
        "    face_boxes = FaceBoxes_ONNX()\n",
        "    tddfa = TDDFA_ONNX(**cfg)\n",
        "else:\n",
        "    face_boxes = FaceBoxes()\n",
        "    tddfa = TDDFA(gpu_mode=False, **cfg)\n",
        "clear_output()    \n",
        "\n",
        "from PIL import Image\n",
        "import numpy as np\n",
        "import cv2\n",
        "from google.colab.patches import cv2_imshow\n",
        "\n",
        "def face_filter(image_path):\n",
        "  img_url = image_path\n",
        "  img = io.imread(img_url)\n",
        "  img = img[..., ::-1]  # RGB -> BGR\n",
        "  boxes = face_boxes(img)\n",
        "  param_lst, roi_box_lst = tddfa(img, boxes)\n",
        "  dense_flag=True\n",
        "  ver_lst = tddfa.recon_vers(param_lst, roi_box_lst, dense_flag=dense_flag)\n",
        "  overlap=depth(img, ver_lst, tddfa.tri, show_flag=False)\n",
        "  open_cv_image = np.array(overlap) \n",
        "  file_name=f\"/content/face_mask_frame/{image_path.split('/')[-1]}\"\n",
        "  cv2.imwrite(file_name,open_cv_image)\n",
        "\n"
      ],
      "execution_count": null,
      "outputs": []
    },
    {
      "cell_type": "code",
      "metadata": {
        "id": "1stZJcDNiEmg",
        "colab": {
          "base_uri": "https://localhost:8080/"
        },
        "outputId": "315c495f-7495-4a47-86cc-219f2217453e"
      },
      "source": [
        "# @title ##**put mask on image** { display-mode: \"form\" }\n",
        "import glob\n",
        "%cd /content/3DDFA_V2\n",
        "clear_output()  \n",
        "for k in os.listdir(\"/content/face_mask_frame/\"):\n",
        "  try:\n",
        "    os.remove(f\"/content/face_mask_frame/{k}\")\n",
        "  except:\n",
        "    pass\n",
        "\n",
        "for i in glob.glob(\"/content/export_each_frame/*png\"):\n",
        "  try:\n",
        "    face_filter(i)\n",
        "  except:\n",
        "    print(f\"{i.split('/')[-1]} create an error\")\n",
        "print(\"Face mask added\")\n",
        "  "
      ],
      "execution_count": null,
      "outputs": [
        {
          "output_type": "stream",
          "name": "stdout",
          "text": [
            "Face mask added\n"
          ]
        }
      ]
    },
    {
      "cell_type": "code",
      "metadata": {
        "id": "eWCDQY6YJwOB"
      },
      "source": [
        "# @title ##**Making the video** { display-mode: \"form\" }\n",
        "\n",
        "import glob\n",
        "import cv2\n",
        "os.chdir(\"/content/face_mask_frame\")\n",
        "new_id_list=[]\n",
        "images=glob.glob(\"*png\")\n",
        "image_dict={}\n",
        "for i in images:\n",
        "  sort_id=int(i.split(\".png\")[0])\n",
        "  image_dict[sort_id]=i\n",
        "  new_id_list.append(sort_id)\n",
        "image_name_id=sorted(new_id_list)\n",
        "\n",
        "images=glob.glob(\"/content/face_mask_frame/*png\")\n",
        "video_name= 'white_mask.mp4' \n",
        "fourcc = cv2.VideoWriter_fourcc(*'MP4V')\n",
        "frame = cv2.imread(images[0])\n",
        "height, width, layers = frame.shape\n",
        "video = cv2.VideoWriter(video_name, fourcc, int(video_fps), (width, height))\n",
        "for i in range(len(image_name_id)):\n",
        "    image_path=f\"{image_dict[image_name_id[i]]}\"\n",
        "    video.write(cv2.imread(image_path))\n",
        "video.release()\n",
        "var4=os.system(f\"ffmpeg -i {video_path} audio.wav -y\")\n",
        "if var4==0:\n",
        "    print(\"Successfully export audio\")\n",
        "else:\n",
        "    print(\"Failed to export audio\")\n",
        "export_file_name=f'{save_path}face_mask_{video_path.split(\"/\")[-1]}'\n",
        "var5=os.system(f\"ffmpeg -i {video_name} -i audio.wav -c:v copy -c:a aac -map 0:v:0 -map 1:a:0 {export_file_name} -y\")\n",
        "if var5==0:\n",
        "    print(f\"Video save at {export_file_name}\")\n",
        "else:\n",
        "    print(\"Failed to replace audio in output file\")    \n",
        "os.chdir(\"/content/\")\n",
        "\n",
        "from google.colab import files\n",
        "files.download(export_file_name)"
      ],
      "execution_count": null,
      "outputs": []
    }
  ]
}